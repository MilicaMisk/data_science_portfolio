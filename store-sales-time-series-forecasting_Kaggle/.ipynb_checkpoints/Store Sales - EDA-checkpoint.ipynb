{
 "cells": [
  {
   "cell_type": "markdown",
   "metadata": {},
   "source": [
    "\n",
    "\n",
    "# Exploratory Data Analysis (EDA) for Kaggle's Time Series Forecasting Competition Data\n",
    "### [Store Sales - Time Series Forecasting](https://www.kaggle.com/competitions/store-sales-time-series-forecasting)\n",
    "\n",
    "Welcome to this notebook, where we will conduct an Exploratory Data Analysis (EDA) on the dataset provided by Kaggle's competition. The objective of this competition is to utilize time-series forecasting techniques to predict store sales based on data from Corporación Favorita, a prominent Ecuadorian-based grocery retailer.\n",
    "\n",
    "**Goal of the Competition:**\n",
    "The primary goal of this competition is to build a robust model that can accurately predict the unit sales of thousands of items sold across different Favorita stores. By analyzing the training dataset, which includes information such as dates, store details, item specifics, promotions, and unit sales, participants are encouraged to apply their machine learning skills to create precise forecasts.\n",
    "\n",
    "**Context:**\n",
    "Forecasting plays a crucial role not only in meteorology but also in various other domains. Governments rely on forecasts to predict economic growth, while scientists attempt to anticipate future population trends. For businesses, particularly brick-and-mortar grocery stores, accurate forecasting is essential to manage inventory effectively. An overestimation could lead to surplus perishable goods, while underestimation may result in popular items quickly running out, leading to revenue loss and dissatisfied customers. Machine learning, with its ability to provide more accurate predictions, offers a solution to this challenge faced by retailers.\n",
    "\n",
    "Traditional forecasting methods in the retail sector often lack sufficient data to support their accuracy and are usually not automated. As retailers expand to new locations with distinct requirements, introduce new products, adapt to changing seasonal preferences, and implement unpredictable marketing strategies, the forecasting problem becomes even more complex.\n",
    "For grocery stores, improved accuracy in forecasting can significantly reduce food waste related to overstocking and enhance overall customer satisfaction. As a result of this competition's findings, local stores may eventually be better equipped to provide precisely what customers need during their shopping experiences.\n",
    "\n",
    "Let's proceed with the exploratory data analysis to gain valuable insights and prepare for the time series forecasting challenge ahead!\n"
   ]
  },
  {
   "cell_type": "markdown",
   "metadata": {},
   "source": [
    "### train.csv\n",
    "The training data, comprising time series of features store_nbr, family, and onpromotion as well as the target sales.\n",
    "- **store_nbr** identifies the store at which the products are sold.\n",
    "- **family** identifies the type of product sold.\n",
    "- **sales** gives the total sales for a product family at a particular store at a given date. Fractional values are possible since products can be sold in fractional units (1.5 kg of cheese, for instance, as opposed to 1 bag of chips).\n",
    "- **onpromotion** gives the total number of items in a product family that were being promoted at a store at a given date."
   ]
  },
  {
   "cell_type": "code",
   "execution_count": 3,
   "metadata": {},
   "outputs": [
    {
     "data": {
      "text/html": [
       "\n",
       "                <script type=\"application/javascript\" id=\"jupyter_black\">\n",
       "                (function() {\n",
       "                    if (window.IPython === undefined) {\n",
       "                        return\n",
       "                    }\n",
       "                    var msg = \"WARNING: it looks like you might have loaded \" +\n",
       "                        \"jupyter_black in a non-lab notebook with \" +\n",
       "                        \"`is_lab=True`. Please double check, and if \" +\n",
       "                        \"loading with `%load_ext` please review the README!\"\n",
       "                    console.log(msg)\n",
       "                    alert(msg)\n",
       "                })()\n",
       "                </script>\n",
       "                "
      ],
      "text/plain": [
       "<IPython.core.display.HTML object>"
      ]
     },
     "metadata": {},
     "output_type": "display_data"
    }
   ],
   "source": [
    "import pandas as pd\n",
    "import matplotlib.pyplot as plt\n",
    "import seaborn as sns\n",
    "from sklearn.neighbors import LocalOutlierFactor\n",
    "\n",
    "\n",
    "# Set the style\n",
    "plt.style.use(\n",
    "    \"bmh\"\n",
    ")\n",
    "# Set palette\n",
    "sns.set_palette('crest')\n",
    "\n",
    "# Set the size\n",
    "plt.rcParams[\"figure.figsize\"] = (\n",
    "    15,\n",
    "    6,\n",
    ")\n",
    "pd.options.display.float_format = '{:.2f}'.format"
   ]
  },
  {
   "cell_type": "code",
   "execution_count": null,
   "metadata": {},
   "outputs": [],
   "source": [
    "train_df[[\"year\", \"date_no_year\", \"day_name\", \"day_of_the_week\"]] = train_df[\n",
    "    \"date\"\n",
    "].apply(\n",
    "    lambda x: pd.Series(\n",
    "        [\n",
    "            x.year,\n",
    "            x.strftime(\"%m-%d\"),\n",
    "            x.day_name(),\n",
    "        ]\n",
    "    )\n",
    ")"
   ]
  },
  {
   "cell_type": "code",
   "execution_count": null,
   "metadata": {},
   "outputs": [],
   "source": [
    "display(\n",
    "    train_df[[\"store_nbr\", \"sales\", \"onpromotion\"]].describe(\n",
    "        percentiles=[0.25, 0.5, 0.75, 0.99]\n",
    "    )\n",
    ")\n",
    "print(\"The data has {} points.\".format(train_df.shape[0]))\n",
    "print(\n",
    "    \"There are {} different product families, sold in {} different stores.\".format(\n",
    "        train_df[\"family\"].nunique(), train_df[\"store_nbr\"].nunique()\n",
    "    )\n",
    ")"
   ]
  },
  {
   "cell_type": "code",
   "execution_count": null,
   "metadata": {},
   "outputs": [],
   "source": [
    "sns.boxplot(data=train_df, x=\"family\", y=\"sales\")\n",
    "plt.xticks(rotation=90)\n",
    "plt.show()"
   ]
  },
  {
   "cell_type": "code",
   "execution_count": null,
   "metadata": {},
   "outputs": [],
   "source": [
    "# Count outlier candidates using IQR Method (Interquartile Range):\n",
    "q1, q3 = train_df[\"sales\"].quantile(0.25), train_df[\"sales\"].quantile(0.75)\n",
    "outlier_percentage = (\n",
    "    train_df[\n",
    "        (train_df[\"sales\"] < (q1 - 1.5 * (q3 - q1)))\n",
    "        | (train_df[\"sales\"] > (q3 + 1.5 * (q3 - q1)))\n",
    "    ].shape[0]\n",
    "    / train_df.shape[0]\n",
    ") * 100\n",
    "print(\n",
    "    f\"There are {outlier_percentage:.2f}% points that are considered outliers according to IQR method.\"\n",
    ")"
   ]
  },
  {
   "cell_type": "markdown",
   "metadata": {},
   "source": [
    "The data exhibits apparent irregularities in its sales figures, raising the need to distinguish between potential anomalies and justifiable outliers. To achieve this distinction, the application of Local Outlier Factor (LOF) for outlier detection is being considered. This approach aims to determine whether these outliers are genuinely atypical within their specific subgroups."
   ]
  },
  {
   "cell_type": "code",
   "execution_count": null,
   "metadata": {},
   "outputs": [],
   "source": [
    "data_prepared = train_df[\n",
    "    [\"store_nbr\", \"family\", \"onpromotion\", \"year\", \"date_no_year\", \"day_name\", \"sales\"]\n",
    "]\n",
    "data_prepared = pd.get_dummies(\n",
    "    data_prepared, columns=[\"store_nbr\", \"family\", \"year\", \"date_no_year\", \"day_name\"]\n",
    ")\n",
    "\n",
    "clf = LocalOutlierFactor(n_neighbors=20, contamination=0.1)\n",
    "y_pred = clf.fit_predict(data_prepared)\n",
    "X_scores = clf.negative_outlier_factor_\n",
    "X_scores"
   ]
  },
  {
   "cell_type": "code",
   "execution_count": 9,
   "metadata": {},
   "outputs": [
    {
     "ename": "NameError",
     "evalue": "name 'train_df' is not defined",
     "output_type": "error",
     "traceback": [
      "\u001b[0;31m---------------------------------------------------------------------------\u001b[0m",
      "\u001b[0;31mNameError\u001b[0m                                 Traceback (most recent call last)",
      "\u001b[0;32m<ipython-input-9-efd1fb4fcd63>\u001b[0m in \u001b[0;36m<module>\u001b[0;34m\u001b[0m\n\u001b[0;32m----> 1\u001b[0;31m \u001b[0max\u001b[0m \u001b[0;34m=\u001b[0m \u001b[0mtrain_df\u001b[0m\u001b[0;34m.\u001b[0m\u001b[0mquery\u001b[0m\u001b[0;34m(\u001b[0m\u001b[0;34m\"sales != 0\"\u001b[0m\u001b[0;34m)\u001b[0m\u001b[0;34m[\u001b[0m\u001b[0;34m\"family\"\u001b[0m\u001b[0;34m]\u001b[0m\u001b[0;34m.\u001b[0m\u001b[0mvalue_counts\u001b[0m\u001b[0;34m(\u001b[0m\u001b[0;34m)\u001b[0m\u001b[0;34m.\u001b[0m\u001b[0mplot\u001b[0m\u001b[0;34m.\u001b[0m\u001b[0mbar\u001b[0m\u001b[0;34m(\u001b[0m\u001b[0;34m)\u001b[0m\u001b[0;34m\u001b[0m\u001b[0;34m\u001b[0m\u001b[0m\n\u001b[0m\u001b[1;32m      2\u001b[0m \u001b[0mplt\u001b[0m\u001b[0;34m.\u001b[0m\u001b[0mtitle\u001b[0m\u001b[0;34m(\u001b[0m\u001b[0;34m\"Frequency of purchases\"\u001b[0m\u001b[0;34m)\u001b[0m\u001b[0;34m\u001b[0m\u001b[0;34m\u001b[0m\u001b[0m\n\u001b[1;32m      3\u001b[0m \u001b[0mplt\u001b[0m\u001b[0;34m.\u001b[0m\u001b[0mxlabel\u001b[0m\u001b[0;34m(\u001b[0m\u001b[0;34m\"Product family\"\u001b[0m\u001b[0;34m)\u001b[0m\u001b[0;34m\u001b[0m\u001b[0;34m\u001b[0m\u001b[0m\n\u001b[1;32m      4\u001b[0m \u001b[0mplt\u001b[0m\u001b[0;34m.\u001b[0m\u001b[0mylabel\u001b[0m\u001b[0;34m(\u001b[0m\u001b[0;34m\"Number of thays with a purchase\"\u001b[0m\u001b[0;34m)\u001b[0m\u001b[0;34m\u001b[0m\u001b[0;34m\u001b[0m\u001b[0m\n\u001b[1;32m      5\u001b[0m \u001b[0mplt\u001b[0m\u001b[0;34m.\u001b[0m\u001b[0mshow\u001b[0m\u001b[0;34m(\u001b[0m\u001b[0;34m)\u001b[0m\u001b[0;34m\u001b[0m\u001b[0;34m\u001b[0m\u001b[0m\n",
      "\u001b[0;31mNameError\u001b[0m: name 'train_df' is not defined"
     ]
    }
   ],
   "source": [
    "ax = train_df.query(\"sales != 0\")[\"family\"].value_counts().plot.bar()\n",
    "plt.title(\"Frequency of purchases\")\n",
    "plt.xlabel(\"Product family\")\n",
    "plt.ylabel(\"Number of thays with a purchase\")\n",
    "plt.show()"
   ]
  },
  {
   "cell_type": "code",
   "execution_count": null,
   "metadata": {},
   "outputs": [],
   "source": [
    "# What family sells the most?\n",
    "yearly_sum_sales = train_df.groupby([\"family\", \"year\"])[\"sales\"].sum().reset_index()\n",
    "sns.heatmap(\n",
    "    data=yearly_sum_sales.pivot(index=\"family\", columns=\"year\", values=\"sales\")\n",
    "    .div(1000000)\n",
    "    .round(2)\n",
    "    .sort_values(by=2017, ascending=False),\n",
    "    annot=True,\n",
    "    cmap=\"bone_r\",\n",
    "    fmt=\"g\",\n",
    ")\n",
    "plt.show()\n",
    "# sum_sales"
   ]
  },
  {
   "cell_type": "code",
   "execution_count": null,
   "metadata": {},
   "outputs": [],
   "source": [
    "sum_sales = (\n",
    "    yearly_sum_sales.groupby(\"family\")[\"sales\"].sum().sort_values(ascending=False)\n",
    ")\n",
    "cumulative_sum_percentage = (sum_sales.cumsum() / sum_sales.sum()) * 100\n",
    "\n",
    "plt.plot(cumulative_sum_percentage, marker=\"o\", linestyle=\"-\")\n",
    "plt.plot(\n",
    "    cumulative_sum_percentage[cumulative_sum_percentage < 95],\n",
    "    marker=\"o\",\n",
    "    linestyle=\"-\",\n",
    "    color=\"purple\",\n",
    "    label=\"product families that carry 95% of sales\",\n",
    ")\n",
    "\n",
    "plt.title(\"Cumulative Sum Percentage Plot\")\n",
    "plt.ylabel(\"Cumulative Sum Percentage (%)\")\n",
    "plt.xticks(rotation=90)\n",
    "plt.legend()\n",
    "plt.show()"
   ]
  },
  {
   "cell_type": "markdown",
   "metadata": {},
   "source": [
    "### Sales"
   ]
  },
  {
   "cell_type": "code",
   "execution_count": null,
   "metadata": {},
   "outputs": [],
   "source": []
  },
  {
   "cell_type": "code",
   "execution_count": null,
   "metadata": {},
   "outputs": [],
   "source": [
    "avg_sales = (\n",
    "    train_df.query(\"family in @majority_of_sales & onpromotion != 0\")\n",
    "    .groupby([\"family\", \"onpromotion\"])[\"sales\"]\n",
    "    .mean()\n",
    "    .sort_values(ascending=False)\n",
    "    .reset_index()\n",
    ")\n",
    "sns.jointplot(\n",
    "    data=avg_sales, x=\"onpromotion\", y=\"sales\", alpha=0.5, hue=\"family\", cmap=\"bone_r\"\n",
    ")"
   ]
  },
  {
   "cell_type": "code",
   "execution_count": null,
   "metadata": {},
   "outputs": [],
   "source": [
    "sns.lmplot(\n",
    "    data=avg_sales,\n",
    "    x=\"onpromotion\",\n",
    "    y=\"sales\",\n",
    "    col=\"family\",\n",
    "    col_wrap=4,\n",
    "    lowess=True,\n",
    "    # aspect=3\n",
    "    line_kws={\"color\": \"purple\"},\n",
    "    sharex=None,\n",
    "    sharey=None,\n",
    ")\n",
    "plt.show()"
   ]
  },
  {
   "cell_type": "code",
   "execution_count": null,
   "metadata": {},
   "outputs": [],
   "source": [
    "sns.lineplot(\n",
    "    data=train_df.query(\"family == 'GROCERY I'\")\n",
    "    .groupby([\"year\", \"date_no_year\"])[\"sales\"]\n",
    "    .mean()\n",
    "    .reset_index(),\n",
    "    x=\"date_no_year\",\n",
    "    y=\"sales\",\n",
    "    hue=\"year\",\n",
    ")\n",
    "plt.xticks(rotation=90)\n",
    "plt.show()"
   ]
  },
  {
   "cell_type": "code",
   "execution_count": null,
   "metadata": {},
   "outputs": [],
   "source": [
    "weekly_sale_average = (\n",
    "    train_df.query(\"family == 'GROCERY I'\")\n",
    "    .groupby([\"year\", \"day_of_the_week\", \"day_name\"])[\"sales\"]\n",
    "    .median()\n",
    "    .reset_index()\n",
    ")\n",
    "ax = sns.lineplot(\n",
    "    data=weekly_sale_average,\n",
    "    x=\"day_of_the_week\",\n",
    "    y=\"sales\",\n",
    "    hue=\"year\",\n",
    ")\n",
    "ax.xaxis.set(\n",
    "    ticks=weekly_sale_average[\"day_of_the_week\"].unique(),\n",
    "    ticklabels=weekly_sale_average[\"day_name\"].unique(),\n",
    ")\n",
    "plt.show()"
   ]
  },
  {
   "cell_type": "code",
   "execution_count": null,
   "metadata": {},
   "outputs": [],
   "source": [
    "ax = sns.boxplot(\n",
    "    data=train_df.query(\"family == 'GROCERY I'\"),\n",
    "    x=\"day_of_the_week\",\n",
    "    y=\"sales\",\n",
    "    hue=\"year\",\n",
    ")\n",
    "ax.xaxis.set(\n",
    "    ticks=train_df[\"day_of_the_week\"].unique(), ticklabels=train_df[\"day_name\"].unique()\n",
    ")\n",
    "plt.show()"
   ]
  },
  {
   "cell_type": "code",
   "execution_count": null,
   "metadata": {},
   "outputs": [],
   "source": []
  },
  {
   "cell_type": "code",
   "execution_count": null,
   "metadata": {},
   "outputs": [],
   "source": []
  }
 ],
 "metadata": {
  "kernelspec": {
   "display_name": "Python 3",
   "language": "python",
   "name": "python3"
  },
  "language_info": {
   "codemirror_mode": {
    "name": "ipython",
    "version": 3
   },
   "file_extension": ".py",
   "mimetype": "text/x-python",
   "name": "python",
   "nbconvert_exporter": "python",
   "pygments_lexer": "ipython3",
   "version": "3.8.10"
  }
 },
 "nbformat": 4,
 "nbformat_minor": 4
}
